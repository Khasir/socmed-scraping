{
 "cells": [
  {
   "cell_type": "code",
   "execution_count": 1,
   "id": "a3875190",
   "metadata": {},
   "outputs": [],
   "source": [
    "from bs4 import BeautifulSoup\n",
    "\n",
    "with open('../scrapers/instagram/venen_0.html', 'r', encoding='utf-8') as file:\n",
    "    soup = BeautifulSoup(file.read(), 'html.parser')\n"
   ]
  },
  {
   "cell_type": "code",
   "execution_count": 7,
   "id": "9540c42b",
   "metadata": {},
   "outputs": [
    {
     "data": {
      "text/plain": [
       "[<button class=\"_acan _acap _acas _aj1- _ap30\" type=\"button\"><div class=\"x9f619 xjbqb8w x78zum5 x168nmei x13lgxp2 x5pf9jr xo71vjh x150jy0e x1e558r4 x1n2onr6 x1plvlek xryxfnj x1c4vz4f x2lah0s x1q0g3np xqjyukv x6s0dn4 x1oa3qoh xl56j7k\" style=\"height: 100%;\"><div class=\"_ap3a _aaco _aacw _aad6 _aade\" dir=\"auto\">Follow</div></div></button>,\n",
       " <button class=\"_acan _acao _acas _aj1- _ap30\" type=\"button\"><div class=\"x3nfvp2 x193iq5w\"><span class=\"x1hwekxz xyqdw3p\"><svg aria-label=\"Link icon\" class=\"x1lliihq x1n2onr6 x7l2uk3\" fill=\"currentColor\" height=\"12\" role=\"img\" viewbox=\"0 0 24 24\" width=\"12\"><title>Link icon</title><path d=\"m9.726 5.123 1.228-1.228a6.47 6.47 0 0 1 9.15 9.152l-1.227 1.227m-4.603 4.603-1.228 1.228a6.47 6.47 0 0 1-9.15-9.152l1.227-1.227\" fill=\"none\" stroke=\"currentColor\" stroke-linecap=\"round\" stroke-linejoin=\"round\" stroke-width=\"2\"></path><line fill=\"none\" stroke=\"currentColor\" stroke-linecap=\"round\" stroke-linejoin=\"round\" stroke-width=\"2\" x1=\"8.471\" x2=\"15.529\" y1=\"15.529\" y2=\"8.471\"></line></svg></span><div class=\"_ap3a _aaco _aacw _aacz _aada _aade\" dir=\"auto\">ra.co/events/2144792 + 2</div></div></button>]"
      ]
     },
     "execution_count": 7,
     "metadata": {},
     "output_type": "execute_result"
    }
   ],
   "source": [
    "results = soup.find_all('button')\n",
    "results"
   ]
  },
  {
   "cell_type": "code",
   "execution_count": 5,
   "id": "4f750191",
   "metadata": {},
   "outputs": [
    {
     "data": {
      "text/plain": [
       "['Follow', 'Link iconra.co/events/2144792 + 2']"
      ]
     },
     "execution_count": 5,
     "metadata": {},
     "output_type": "execute_result"
    }
   ],
   "source": [
    "[r.get_text() for r in results]"
   ]
  },
  {
   "cell_type": "code",
   "execution_count": 8,
   "id": "5410d39e",
   "metadata": {},
   "outputs": [
    {
     "name": "stdout",
     "output_type": "stream",
     "text": [
      "ra.co/events/2144792\n"
     ]
    }
   ],
   "source": [
    "url = ''\n",
    "\n",
    "for result in results:\n",
    "    if result.get_text().startswith('Link icon'):\n",
    "        url = result.get_text()[len('Link icon'):]\n",
    "        url = url.split()[0]\n",
    "print(url)"
   ]
  },
  {
   "cell_type": "code",
   "execution_count": 10,
   "id": "368f7d6b",
   "metadata": {},
   "outputs": [
    {
     "data": {
      "text/plain": [
       "[]"
      ]
     },
     "execution_count": 10,
     "metadata": {},
     "output_type": "execute_result"
    }
   ],
   "source": [
    "with open('../scrapers/instagram/html/999_adj.html', 'r', encoding='utf-8') as file:\n",
    "    soup = BeautifulSoup(file.read(), 'html.parser')\n",
    "results = soup.find_all('button')\n",
    "results"
   ]
  },
  {
   "cell_type": "code",
   "execution_count": null,
   "id": "8267c971",
   "metadata": {},
   "outputs": [],
   "source": []
  }
 ],
 "metadata": {
  "kernelspec": {
   "display_name": ".venv",
   "language": "python",
   "name": "python3"
  },
  "language_info": {
   "codemirror_mode": {
    "name": "ipython",
    "version": 3
   },
   "file_extension": ".py",
   "mimetype": "text/x-python",
   "name": "python",
   "nbconvert_exporter": "python",
   "pygments_lexer": "ipython3",
   "version": "3.10.15"
  }
 },
 "nbformat": 4,
 "nbformat_minor": 5
}
